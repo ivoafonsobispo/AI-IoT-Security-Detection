{
 "cells": [
  {
   "cell_type": "code",
   "execution_count": 1,
   "metadata": {},
   "outputs": [],
   "source": [
    "import pandas as pd\n",
    "import numpy as np"
   ]
  },
  {
   "cell_type": "code",
   "execution_count": 2,
   "metadata": {},
   "outputs": [
    {
     "data": {
      "text/html": [
       "<div>\n",
       "<style scoped>\n",
       "    .dataframe tbody tr th:only-of-type {\n",
       "        vertical-align: middle;\n",
       "    }\n",
       "\n",
       "    .dataframe tbody tr th {\n",
       "        vertical-align: top;\n",
       "    }\n",
       "\n",
       "    .dataframe thead th {\n",
       "        text-align: right;\n",
       "    }\n",
       "</style>\n",
       "<table border=\"1\" class=\"dataframe\">\n",
       "  <thead>\n",
       "    <tr style=\"text-align: right;\">\n",
       "      <th></th>\n",
       "      <th>duration</th>\n",
       "      <th>orig_bytes</th>\n",
       "      <th>resp_bytes</th>\n",
       "      <th>missed_bytes</th>\n",
       "      <th>orig_pkts</th>\n",
       "      <th>orig_ip_bytes</th>\n",
       "      <th>resp_pkts</th>\n",
       "      <th>resp_ip_bytes</th>\n",
       "      <th>flow_duration</th>\n",
       "      <th>fwd_pkts_tot</th>\n",
       "      <th>...</th>\n",
       "      <th>history_originator_6</th>\n",
       "      <th>history_originator_7</th>\n",
       "      <th>history_originator_8</th>\n",
       "      <th>history_responder_0</th>\n",
       "      <th>history_responder_1</th>\n",
       "      <th>history_responder_2</th>\n",
       "      <th>history_responder_3</th>\n",
       "      <th>history_responder_4</th>\n",
       "      <th>history_responder_5</th>\n",
       "      <th>history_responder_6</th>\n",
       "    </tr>\n",
       "  </thead>\n",
       "  <tbody>\n",
       "    <tr>\n",
       "      <th>0</th>\n",
       "      <td>-0.505344</td>\n",
       "      <td>-0.210608</td>\n",
       "      <td>-0.009064</td>\n",
       "      <td>0</td>\n",
       "      <td>-0.324424</td>\n",
       "      <td>-0.304032</td>\n",
       "      <td>-0.141974</td>\n",
       "      <td>-0.165057</td>\n",
       "      <td>-0.505344</td>\n",
       "      <td>-0.324424</td>\n",
       "      <td>...</td>\n",
       "      <td>0</td>\n",
       "      <td>0</td>\n",
       "      <td>0</td>\n",
       "      <td>0</td>\n",
       "      <td>1</td>\n",
       "      <td>0</td>\n",
       "      <td>0</td>\n",
       "      <td>0</td>\n",
       "      <td>0</td>\n",
       "      <td>0</td>\n",
       "    </tr>\n",
       "    <tr>\n",
       "      <th>1</th>\n",
       "      <td>-0.467881</td>\n",
       "      <td>-0.210608</td>\n",
       "      <td>-0.009064</td>\n",
       "      <td>0</td>\n",
       "      <td>-0.201266</td>\n",
       "      <td>-0.233611</td>\n",
       "      <td>-0.274120</td>\n",
       "      <td>-0.253647</td>\n",
       "      <td>-0.467881</td>\n",
       "      <td>-0.201266</td>\n",
       "      <td>...</td>\n",
       "      <td>0</td>\n",
       "      <td>0</td>\n",
       "      <td>0</td>\n",
       "      <td>1</td>\n",
       "      <td>0</td>\n",
       "      <td>0</td>\n",
       "      <td>0</td>\n",
       "      <td>0</td>\n",
       "      <td>0</td>\n",
       "      <td>0</td>\n",
       "    </tr>\n",
       "    <tr>\n",
       "      <th>2</th>\n",
       "      <td>-0.469349</td>\n",
       "      <td>-0.210608</td>\n",
       "      <td>-0.009064</td>\n",
       "      <td>0</td>\n",
       "      <td>-0.201266</td>\n",
       "      <td>-0.233611</td>\n",
       "      <td>-0.274120</td>\n",
       "      <td>-0.253647</td>\n",
       "      <td>-0.469349</td>\n",
       "      <td>-0.201266</td>\n",
       "      <td>...</td>\n",
       "      <td>0</td>\n",
       "      <td>0</td>\n",
       "      <td>0</td>\n",
       "      <td>1</td>\n",
       "      <td>0</td>\n",
       "      <td>0</td>\n",
       "      <td>0</td>\n",
       "      <td>0</td>\n",
       "      <td>0</td>\n",
       "      <td>0</td>\n",
       "    </tr>\n",
       "    <tr>\n",
       "      <th>3</th>\n",
       "      <td>1.412909</td>\n",
       "      <td>0.487981</td>\n",
       "      <td>-0.009064</td>\n",
       "      <td>0</td>\n",
       "      <td>-0.078109</td>\n",
       "      <td>-0.233611</td>\n",
       "      <td>-0.274120</td>\n",
       "      <td>-0.253647</td>\n",
       "      <td>1.412909</td>\n",
       "      <td>-0.078109</td>\n",
       "      <td>...</td>\n",
       "      <td>0</td>\n",
       "      <td>0</td>\n",
       "      <td>0</td>\n",
       "      <td>1</td>\n",
       "      <td>0</td>\n",
       "      <td>0</td>\n",
       "      <td>0</td>\n",
       "      <td>0</td>\n",
       "      <td>0</td>\n",
       "      <td>0</td>\n",
       "    </tr>\n",
       "    <tr>\n",
       "      <th>4</th>\n",
       "      <td>-0.505344</td>\n",
       "      <td>-0.210608</td>\n",
       "      <td>-0.009064</td>\n",
       "      <td>0</td>\n",
       "      <td>-0.324424</td>\n",
       "      <td>-0.304032</td>\n",
       "      <td>-0.141974</td>\n",
       "      <td>-0.165057</td>\n",
       "      <td>-0.505344</td>\n",
       "      <td>-0.324424</td>\n",
       "      <td>...</td>\n",
       "      <td>0</td>\n",
       "      <td>0</td>\n",
       "      <td>0</td>\n",
       "      <td>0</td>\n",
       "      <td>1</td>\n",
       "      <td>0</td>\n",
       "      <td>0</td>\n",
       "      <td>0</td>\n",
       "      <td>0</td>\n",
       "      <td>0</td>\n",
       "    </tr>\n",
       "    <tr>\n",
       "      <th>...</th>\n",
       "      <td>...</td>\n",
       "      <td>...</td>\n",
       "      <td>...</td>\n",
       "      <td>...</td>\n",
       "      <td>...</td>\n",
       "      <td>...</td>\n",
       "      <td>...</td>\n",
       "      <td>...</td>\n",
       "      <td>...</td>\n",
       "      <td>...</td>\n",
       "      <td>...</td>\n",
       "      <td>...</td>\n",
       "      <td>...</td>\n",
       "      <td>...</td>\n",
       "      <td>...</td>\n",
       "      <td>...</td>\n",
       "      <td>...</td>\n",
       "      <td>...</td>\n",
       "      <td>...</td>\n",
       "      <td>...</td>\n",
       "      <td>...</td>\n",
       "    </tr>\n",
       "    <tr>\n",
       "      <th>802383</th>\n",
       "      <td>-0.505340</td>\n",
       "      <td>-0.210608</td>\n",
       "      <td>-0.009064</td>\n",
       "      <td>0</td>\n",
       "      <td>-0.324424</td>\n",
       "      <td>-0.304032</td>\n",
       "      <td>-0.141974</td>\n",
       "      <td>-0.165057</td>\n",
       "      <td>-0.505340</td>\n",
       "      <td>-0.324424</td>\n",
       "      <td>...</td>\n",
       "      <td>0</td>\n",
       "      <td>0</td>\n",
       "      <td>0</td>\n",
       "      <td>0</td>\n",
       "      <td>1</td>\n",
       "      <td>0</td>\n",
       "      <td>0</td>\n",
       "      <td>0</td>\n",
       "      <td>0</td>\n",
       "      <td>0</td>\n",
       "    </tr>\n",
       "    <tr>\n",
       "      <th>802384</th>\n",
       "      <td>-0.505341</td>\n",
       "      <td>-0.210608</td>\n",
       "      <td>-0.009064</td>\n",
       "      <td>0</td>\n",
       "      <td>-0.324424</td>\n",
       "      <td>-0.304032</td>\n",
       "      <td>-0.141974</td>\n",
       "      <td>-0.165057</td>\n",
       "      <td>-0.505341</td>\n",
       "      <td>-0.324424</td>\n",
       "      <td>...</td>\n",
       "      <td>0</td>\n",
       "      <td>0</td>\n",
       "      <td>0</td>\n",
       "      <td>0</td>\n",
       "      <td>1</td>\n",
       "      <td>0</td>\n",
       "      <td>0</td>\n",
       "      <td>0</td>\n",
       "      <td>0</td>\n",
       "      <td>0</td>\n",
       "    </tr>\n",
       "    <tr>\n",
       "      <th>802385</th>\n",
       "      <td>-0.505344</td>\n",
       "      <td>-0.210608</td>\n",
       "      <td>-0.009064</td>\n",
       "      <td>0</td>\n",
       "      <td>-0.324424</td>\n",
       "      <td>-0.304032</td>\n",
       "      <td>-0.141974</td>\n",
       "      <td>-0.165057</td>\n",
       "      <td>-0.505344</td>\n",
       "      <td>-0.324424</td>\n",
       "      <td>...</td>\n",
       "      <td>0</td>\n",
       "      <td>0</td>\n",
       "      <td>0</td>\n",
       "      <td>0</td>\n",
       "      <td>1</td>\n",
       "      <td>0</td>\n",
       "      <td>0</td>\n",
       "      <td>0</td>\n",
       "      <td>0</td>\n",
       "      <td>0</td>\n",
       "    </tr>\n",
       "    <tr>\n",
       "      <th>802386</th>\n",
       "      <td>-0.505344</td>\n",
       "      <td>-0.210608</td>\n",
       "      <td>-0.009064</td>\n",
       "      <td>0</td>\n",
       "      <td>-0.324424</td>\n",
       "      <td>-0.304032</td>\n",
       "      <td>-0.141974</td>\n",
       "      <td>-0.165057</td>\n",
       "      <td>-0.505344</td>\n",
       "      <td>-0.324424</td>\n",
       "      <td>...</td>\n",
       "      <td>0</td>\n",
       "      <td>0</td>\n",
       "      <td>0</td>\n",
       "      <td>0</td>\n",
       "      <td>1</td>\n",
       "      <td>0</td>\n",
       "      <td>0</td>\n",
       "      <td>0</td>\n",
       "      <td>0</td>\n",
       "      <td>0</td>\n",
       "    </tr>\n",
       "    <tr>\n",
       "      <th>802387</th>\n",
       "      <td>-0.505344</td>\n",
       "      <td>-0.210608</td>\n",
       "      <td>-0.009064</td>\n",
       "      <td>0</td>\n",
       "      <td>-0.324424</td>\n",
       "      <td>-0.304032</td>\n",
       "      <td>-0.141974</td>\n",
       "      <td>-0.165057</td>\n",
       "      <td>-0.505344</td>\n",
       "      <td>-0.324424</td>\n",
       "      <td>...</td>\n",
       "      <td>0</td>\n",
       "      <td>0</td>\n",
       "      <td>0</td>\n",
       "      <td>0</td>\n",
       "      <td>1</td>\n",
       "      <td>0</td>\n",
       "      <td>0</td>\n",
       "      <td>0</td>\n",
       "      <td>0</td>\n",
       "      <td>0</td>\n",
       "    </tr>\n",
       "  </tbody>\n",
       "</table>\n",
       "<p>802388 rows × 169 columns</p>\n",
       "</div>"
      ],
      "text/plain": [
       "        duration  orig_bytes  resp_bytes  missed_bytes  orig_pkts  \\\n",
       "0      -0.505344   -0.210608   -0.009064             0  -0.324424   \n",
       "1      -0.467881   -0.210608   -0.009064             0  -0.201266   \n",
       "2      -0.469349   -0.210608   -0.009064             0  -0.201266   \n",
       "3       1.412909    0.487981   -0.009064             0  -0.078109   \n",
       "4      -0.505344   -0.210608   -0.009064             0  -0.324424   \n",
       "...          ...         ...         ...           ...        ...   \n",
       "802383 -0.505340   -0.210608   -0.009064             0  -0.324424   \n",
       "802384 -0.505341   -0.210608   -0.009064             0  -0.324424   \n",
       "802385 -0.505344   -0.210608   -0.009064             0  -0.324424   \n",
       "802386 -0.505344   -0.210608   -0.009064             0  -0.324424   \n",
       "802387 -0.505344   -0.210608   -0.009064             0  -0.324424   \n",
       "\n",
       "        orig_ip_bytes  resp_pkts  resp_ip_bytes  flow_duration  fwd_pkts_tot  \\\n",
       "0           -0.304032  -0.141974      -0.165057      -0.505344     -0.324424   \n",
       "1           -0.233611  -0.274120      -0.253647      -0.467881     -0.201266   \n",
       "2           -0.233611  -0.274120      -0.253647      -0.469349     -0.201266   \n",
       "3           -0.233611  -0.274120      -0.253647       1.412909     -0.078109   \n",
       "4           -0.304032  -0.141974      -0.165057      -0.505344     -0.324424   \n",
       "...               ...        ...            ...            ...           ...   \n",
       "802383      -0.304032  -0.141974      -0.165057      -0.505340     -0.324424   \n",
       "802384      -0.304032  -0.141974      -0.165057      -0.505341     -0.324424   \n",
       "802385      -0.304032  -0.141974      -0.165057      -0.505344     -0.324424   \n",
       "802386      -0.304032  -0.141974      -0.165057      -0.505344     -0.324424   \n",
       "802387      -0.304032  -0.141974      -0.165057      -0.505344     -0.324424   \n",
       "\n",
       "        ...  history_originator_6  history_originator_7  history_originator_8  \\\n",
       "0       ...                     0                     0                     0   \n",
       "1       ...                     0                     0                     0   \n",
       "2       ...                     0                     0                     0   \n",
       "3       ...                     0                     0                     0   \n",
       "4       ...                     0                     0                     0   \n",
       "...     ...                   ...                   ...                   ...   \n",
       "802383  ...                     0                     0                     0   \n",
       "802384  ...                     0                     0                     0   \n",
       "802385  ...                     0                     0                     0   \n",
       "802386  ...                     0                     0                     0   \n",
       "802387  ...                     0                     0                     0   \n",
       "\n",
       "        history_responder_0  history_responder_1  history_responder_2  \\\n",
       "0                         0                    1                    0   \n",
       "1                         1                    0                    0   \n",
       "2                         1                    0                    0   \n",
       "3                         1                    0                    0   \n",
       "4                         0                    1                    0   \n",
       "...                     ...                  ...                  ...   \n",
       "802383                    0                    1                    0   \n",
       "802384                    0                    1                    0   \n",
       "802385                    0                    1                    0   \n",
       "802386                    0                    1                    0   \n",
       "802387                    0                    1                    0   \n",
       "\n",
       "        history_responder_3  history_responder_4  history_responder_5  \\\n",
       "0                         0                    0                    0   \n",
       "1                         0                    0                    0   \n",
       "2                         0                    0                    0   \n",
       "3                         0                    0                    0   \n",
       "4                         0                    0                    0   \n",
       "...                     ...                  ...                  ...   \n",
       "802383                    0                    0                    0   \n",
       "802384                    0                    0                    0   \n",
       "802385                    0                    0                    0   \n",
       "802386                    0                    0                    0   \n",
       "802387                    0                    0                    0   \n",
       "\n",
       "        history_responder_6  \n",
       "0                         0  \n",
       "1                         0  \n",
       "2                         0  \n",
       "3                         0  \n",
       "4                         0  \n",
       "...                     ...  \n",
       "802383                    0  \n",
       "802384                    0  \n",
       "802385                    0  \n",
       "802386                    0  \n",
       "802387                    0  \n",
       "\n",
       "[802388 rows x 169 columns]"
      ]
     },
     "metadata": {},
     "output_type": "display_data"
    }
   ],
   "source": [
    "df = pd.read_csv(\"../Datasets/multiclass/smotenc/train_smote_data.csv\")\n",
    "display(df)"
   ]
  },
  {
   "cell_type": "code",
   "execution_count": 3,
   "metadata": {},
   "outputs": [],
   "source": [
    "# Check if there is only one field with the value of 1\n",
    "def checkFields(row):\n",
    "    return np.sum(row == 1) == 1"
   ]
  },
  {
   "cell_type": "code",
   "execution_count": 4,
   "metadata": {},
   "outputs": [],
   "source": [
    "def applyVerification(df):\n",
    "    result = np.apply_along_axis(checkFields, 1, df.values)\n",
    "\n",
    "    counts = np.bincount(result.astype(int))\n",
    "\n",
    "    print(\"Number of True values: \", counts[1])\n",
    "    print(\"Number of False values: \", counts[0])"
   ]
  },
  {
   "cell_type": "code",
   "execution_count": 5,
   "metadata": {},
   "outputs": [
    {
     "name": "stdout",
     "output_type": "stream",
     "text": [
      "Number of True values:  802388\n",
      "Number of False values:  0\n"
     ]
    }
   ],
   "source": [
    "# proto\n",
    "df_proto = df[['proto_icmp', 'proto_tcp', 'proto_udp']]\n",
    "\n",
    "applyVerification(df_proto)"
   ]
  },
  {
   "cell_type": "code",
   "execution_count": 6,
   "metadata": {},
   "outputs": [
    {
     "name": "stdout",
     "output_type": "stream",
     "text": [
      "Number of True values:  802388\n",
      "Number of False values:  0\n"
     ]
    }
   ],
   "source": [
    "# conn\n",
    "df_conn = df[['conn_state_OTH', 'conn_state_REJ', 'conn_state_RSTO', 'conn_state_RSTOS0', 'conn_state_RSTR', 'conn_state_RSTRH', 'conn_state_S0', 'conn_state_S1', 'conn_state_S2', 'conn_state_S3', 'conn_state_SF', 'conn_state_SH', 'conn_state_SHR']]\n",
    "\n",
    "applyVerification(df_conn)"
   ]
  },
  {
   "cell_type": "code",
   "execution_count": 7,
   "metadata": {},
   "outputs": [
    {
     "name": "stdout",
     "output_type": "stream",
     "text": [
      "Number of True values:  802388\n",
      "Number of False values:  0\n"
     ]
    }
   ],
   "source": [
    "# fwd_header_size_min\n",
    "df_fwd_header_size_min = df[['fwd_header_size_min_0', 'fwd_header_size_min_8', 'fwd_header_size_min_20', 'fwd_header_size_min_24', 'fwd_header_size_min_32', 'fwd_header_size_min_40', 'fwd_header_size_min_44']]\n",
    "\n",
    "applyVerification(df_fwd_header_size_min)"
   ]
  },
  {
   "cell_type": "code",
   "execution_count": 8,
   "metadata": {},
   "outputs": [
    {
     "name": "stdout",
     "output_type": "stream",
     "text": [
      "Number of True values:  802388\n",
      "Number of False values:  0\n"
     ]
    }
   ],
   "source": [
    "# df_fwd_header_size_max\n",
    "df_fwd_header_size_max = df[['fwd_header_size_max_0', 'fwd_header_size_max_8', 'fwd_header_size_max_20', 'fwd_header_size_max_24', 'fwd_header_size_max_32', 'fwd_header_size_max_40', 'fwd_header_size_max_44', 'fwd_header_size_max_52']]\n",
    "\n",
    "applyVerification(df_fwd_header_size_max)"
   ]
  },
  {
   "cell_type": "code",
   "execution_count": 9,
   "metadata": {},
   "outputs": [
    {
     "name": "stdout",
     "output_type": "stream",
     "text": [
      "Number of True values:  802388\n",
      "Number of False values:  0\n"
     ]
    }
   ],
   "source": [
    "# bwd_header_size_min\n",
    "df_bwd_header_size_min = df[['bwd_header_size_min_0', 'bwd_header_size_min_8', 'bwd_header_size_min_20', 'bwd_header_size_min_24', 'bwd_header_size_min_32', 'bwd_header_size_min_40', 'bwd_header_size_min_44']]\n",
    "\n",
    "applyVerification(df_bwd_header_size_min)"
   ]
  },
  {
   "cell_type": "code",
   "execution_count": 10,
   "metadata": {},
   "outputs": [
    {
     "name": "stdout",
     "output_type": "stream",
     "text": [
      "Number of True values:  802388\n",
      "Number of False values:  0\n"
     ]
    }
   ],
   "source": [
    "# bwd_header_size_max\n",
    "df_bwd_header_size_max = df[['bwd_header_size_max_0', 'bwd_header_size_max_8', 'bwd_header_size_max_20', 'bwd_header_size_max_24', 'bwd_header_size_max_32', 'bwd_header_size_max_40', 'bwd_header_size_max_44', 'bwd_header_size_max_52', 'bwd_header_size_max_60']]\n",
    "\n",
    "applyVerification(df_bwd_header_size_max)"
   ]
  },
  {
   "cell_type": "code",
   "execution_count": 11,
   "metadata": {},
   "outputs": [
    {
     "name": "stdout",
     "output_type": "stream",
     "text": [
      "Number of True values:  802388\n",
      "Number of False values:  0\n"
     ]
    }
   ],
   "source": [
    "# flow_FIN\n",
    "df_flow_FIN = df[['flow_FIN_flag_count_0', 'flow_FIN_flag_count_1', 'flow_FIN_flag_count_2', 'flow_FIN_flag_count_3', 'flow_FIN_flag_count_4', 'flow_FIN_flag_count_5', 'flow_FIN_flag_count_6', 'flow_FIN_flag_count_7', 'flow_FIN_flag_count_8', 'flow_FIN_flag_count_9', 'flow_FIN_flag_count_10']]\n",
    "\n",
    "applyVerification(df_flow_FIN)"
   ]
  },
  {
   "cell_type": "code",
   "execution_count": 12,
   "metadata": {},
   "outputs": [
    {
     "name": "stdout",
     "output_type": "stream",
     "text": [
      "Number of True values:  802388\n",
      "Number of False values:  0\n"
     ]
    }
   ],
   "source": [
    "# flow_SYN\n",
    "df_flow_SYN = df[['flow_SYN_flag_count_0', 'flow_SYN_flag_count_1', 'flow_SYN_flag_count_2', 'flow_SYN_flag_count_3', 'flow_SYN_flag_count_4', 'flow_SYN_flag_count_5', 'flow_SYN_flag_count_6', 'flow_SYN_flag_count_7', 'flow_SYN_flag_count_8', 'flow_SYN_flag_count_9', 'flow_SYN_flag_count_10', 'flow_SYN_flag_count_13']]\n",
    "\n",
    "applyVerification(df_flow_SYN)"
   ]
  },
  {
   "cell_type": "code",
   "execution_count": 13,
   "metadata": {},
   "outputs": [
    {
     "name": "stdout",
     "output_type": "stream",
     "text": [
      "Number of True values:  802388\n",
      "Number of False values:  0\n"
     ]
    }
   ],
   "source": [
    "# flow_RST\n",
    "df_flow_RST = df[['flow_RST_flag_count_0', 'flow_RST_flag_count_1', 'flow_RST_flag_count_2', 'flow_RST_flag_count_3', 'flow_RST_flag_count_4', 'flow_RST_flag_count_6']]\n",
    "\n",
    "applyVerification(df_flow_RST)"
   ]
  },
  {
   "cell_type": "code",
   "execution_count": 14,
   "metadata": {},
   "outputs": [
    {
     "name": "stdout",
     "output_type": "stream",
     "text": [
      "Number of True values:  802388\n",
      "Number of False values:  0\n"
     ]
    }
   ],
   "source": [
    "# history_originator\n",
    "df_history_originator = df[['history_originator_0', 'history_originator_1', 'history_originator_2', 'history_originator_3', 'history_originator_4', 'history_originator_5', 'history_originator_6', 'history_originator_7', 'history_originator_8']]\n",
    "\n",
    "applyVerification(df_history_originator)"
   ]
  },
  {
   "cell_type": "code",
   "execution_count": 15,
   "metadata": {},
   "outputs": [
    {
     "name": "stdout",
     "output_type": "stream",
     "text": [
      "Number of True values:  802388\n",
      "Number of False values:  0\n"
     ]
    }
   ],
   "source": [
    "# history_responder\n",
    "df_history_responder = df[['history_responder_0', 'history_responder_1', 'history_responder_2', 'history_responder_3', 'history_responder_4', 'history_responder_5', 'history_responder_6']]\n",
    "\n",
    "applyVerification(df_history_responder)"
   ]
  }
 ],
 "metadata": {
  "kernelspec": {
   "display_name": "Python 3",
   "language": "python",
   "name": "python3"
  },
  "language_info": {
   "codemirror_mode": {
    "name": "ipython",
    "version": 3
   },
   "file_extension": ".py",
   "mimetype": "text/x-python",
   "name": "python",
   "nbconvert_exporter": "python",
   "pygments_lexer": "ipython3",
   "version": "3.6.9"
  }
 },
 "nbformat": 4,
 "nbformat_minor": 4
}
